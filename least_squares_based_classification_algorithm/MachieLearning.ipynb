{
 "cells": [
  {
   "cell_type": "code",
   "execution_count": 75,
   "metadata": {},
   "outputs": [],
   "source": [
    "import numpy as np \n",
    "import pandas as pd\n",
    "from sklearn.metrics import accuracy_score\n",
    "from sklearn.metrics import confusion_matrix\n",
    "import matplotlib.pyplot as plt\n",
    "import seaborn as sns\n",
    "from sklearn import svm, datasets"
   ]
  },
  {
   "cell_type": "code",
   "execution_count": 2,
   "metadata": {},
   "outputs": [
    {
     "data": {
      "text/html": [
       "<div>\n",
       "<style scoped>\n",
       "    .dataframe tbody tr th:only-of-type {\n",
       "        vertical-align: middle;\n",
       "    }\n",
       "\n",
       "    .dataframe tbody tr th {\n",
       "        vertical-align: top;\n",
       "    }\n",
       "\n",
       "    .dataframe thead th {\n",
       "        text-align: right;\n",
       "    }\n",
       "</style>\n",
       "<table border=\"1\" class=\"dataframe\">\n",
       "  <thead>\n",
       "    <tr style=\"text-align: right;\">\n",
       "      <th></th>\n",
       "      <th>PetalLengthCm</th>\n",
       "      <th>PetalWidthCm</th>\n",
       "      <th>Species</th>\n",
       "    </tr>\n",
       "  </thead>\n",
       "  <tbody>\n",
       "    <tr>\n",
       "      <th>0</th>\n",
       "      <td>3.7</td>\n",
       "      <td>1.0</td>\n",
       "      <td>Iris-versicolor</td>\n",
       "    </tr>\n",
       "    <tr>\n",
       "      <th>1</th>\n",
       "      <td>5.1</td>\n",
       "      <td>1.5</td>\n",
       "      <td>Iris-virginica</td>\n",
       "    </tr>\n",
       "    <tr>\n",
       "      <th>2</th>\n",
       "      <td>5.5</td>\n",
       "      <td>1.8</td>\n",
       "      <td>Iris-virginica</td>\n",
       "    </tr>\n",
       "    <tr>\n",
       "      <th>3</th>\n",
       "      <td>4.4</td>\n",
       "      <td>1.4</td>\n",
       "      <td>Iris-versicolor</td>\n",
       "    </tr>\n",
       "    <tr>\n",
       "      <th>4</th>\n",
       "      <td>6.1</td>\n",
       "      <td>2.5</td>\n",
       "      <td>Iris-virginica</td>\n",
       "    </tr>\n",
       "  </tbody>\n",
       "</table>\n",
       "</div>"
      ],
      "text/plain": [
       "   PetalLengthCm  PetalWidthCm          Species\n",
       "0            3.7           1.0  Iris-versicolor\n",
       "1            5.1           1.5   Iris-virginica\n",
       "2            5.5           1.8   Iris-virginica\n",
       "3            4.4           1.4  Iris-versicolor\n",
       "4            6.1           2.5   Iris-virginica"
      ]
     },
     "execution_count": 2,
     "metadata": {},
     "output_type": "execute_result"
    }
   ],
   "source": [
    "Data= pd.read_csv(\"Train.csv\")\n",
    "Data.head()\n",
    "#Data.shape (105,3)"
   ]
  },
  {
   "cell_type": "code",
   "execution_count": 3,
   "metadata": {},
   "outputs": [
    {
     "data": {
      "text/html": [
       "<div>\n",
       "<style scoped>\n",
       "    .dataframe tbody tr th:only-of-type {\n",
       "        vertical-align: middle;\n",
       "    }\n",
       "\n",
       "    .dataframe tbody tr th {\n",
       "        vertical-align: top;\n",
       "    }\n",
       "\n",
       "    .dataframe thead th {\n",
       "        text-align: right;\n",
       "    }\n",
       "</style>\n",
       "<table border=\"1\" class=\"dataframe\">\n",
       "  <thead>\n",
       "    <tr style=\"text-align: right;\">\n",
       "      <th></th>\n",
       "      <th>PetalLengthCm</th>\n",
       "      <th>PetalWidthCm</th>\n",
       "      <th>Species</th>\n",
       "    </tr>\n",
       "  </thead>\n",
       "  <tbody>\n",
       "    <tr>\n",
       "      <th>0</th>\n",
       "      <td>4.7</td>\n",
       "      <td>1.2</td>\n",
       "      <td>Iris-versicolor</td>\n",
       "    </tr>\n",
       "    <tr>\n",
       "      <th>1</th>\n",
       "      <td>1.7</td>\n",
       "      <td>0.3</td>\n",
       "      <td>Iris-setosa</td>\n",
       "    </tr>\n",
       "    <tr>\n",
       "      <th>2</th>\n",
       "      <td>6.9</td>\n",
       "      <td>2.3</td>\n",
       "      <td>Iris-virginica</td>\n",
       "    </tr>\n",
       "    <tr>\n",
       "      <th>3</th>\n",
       "      <td>4.5</td>\n",
       "      <td>1.5</td>\n",
       "      <td>Iris-versicolor</td>\n",
       "    </tr>\n",
       "    <tr>\n",
       "      <th>4</th>\n",
       "      <td>4.8</td>\n",
       "      <td>1.4</td>\n",
       "      <td>Iris-versicolor</td>\n",
       "    </tr>\n",
       "  </tbody>\n",
       "</table>\n",
       "</div>"
      ],
      "text/plain": [
       "   PetalLengthCm  PetalWidthCm          Species\n",
       "0            4.7           1.2  Iris-versicolor\n",
       "1            1.7           0.3      Iris-setosa\n",
       "2            6.9           2.3   Iris-virginica\n",
       "3            4.5           1.5  Iris-versicolor\n",
       "4            4.8           1.4  Iris-versicolor"
      ]
     },
     "execution_count": 3,
     "metadata": {},
     "output_type": "execute_result"
    }
   ],
   "source": [
    "DataT= pd.read_csv(\"Test.csv\")\n",
    "DataT.head()\n",
    "#(45,3)  DataT.shape"
   ]
  },
  {
   "cell_type": "code",
   "execution_count": null,
   "metadata": {},
   "outputs": [],
   "source": []
  },
  {
   "cell_type": "code",
   "execution_count": 4,
   "metadata": {},
   "outputs": [
    {
     "name": "stdout",
     "output_type": "stream",
     "text": [
      "Attributes:\n",
      "[[3.7 1. ]\n",
      " [5.1 1.5]\n",
      " [5.5 1.8]\n",
      " [4.4 1.4]\n",
      " [6.1 2.5]\n",
      " [4.2 1.3]\n",
      " [6.6 2.1]\n",
      " [4.5 1.5]\n",
      " [1.4 0.2]\n",
      " [6.7 2. ]\n",
      " [4.1 1. ]\n",
      " [1.4 0.2]\n",
      " [1.3 0.3]\n",
      " [1.9 0.4]\n",
      " [3.5 1. ]\n",
      " [4.9 1.8]\n",
      " [1.9 0.2]\n",
      " [1.6 0.2]\n",
      " [1.7 0.5]\n",
      " [4.2 1.3]\n",
      " [1.5 0.2]\n",
      " [4.2 1.2]\n",
      " [6.7 2.2]\n",
      " [1.4 0.2]\n",
      " [4.3 1.3]\n",
      " [5.  2. ]\n",
      " [1.4 0.2]\n",
      " [4.8 1.8]\n",
      " [5.1 1.9]\n",
      " [4.  1. ]\n",
      " [4.5 1.5]\n",
      " [5.4 2.3]\n",
      " [4.  1.3]\n",
      " [1.7 0.4]\n",
      " [3.3 1. ]\n",
      " [5.3 1.9]\n",
      " [1.4 0.2]\n",
      " [1.2 0.2]\n",
      " [3.8 1.1]\n",
      " [5.  1.7]\n",
      " [1.5 0.1]\n",
      " [5.1 2.4]\n",
      " [1.5 0.2]\n",
      " [1.6 0.6]\n",
      " [4.8 1.8]\n",
      " [3.  1.1]\n",
      " [5.7 2.3]\n",
      " [5.1 1.6]\n",
      " [5.6 1.4]\n",
      " [6.1 2.3]\n",
      " [4.  1.3]\n",
      " [1.4 0.2]\n",
      " [1.1 0.1]\n",
      " [5.  1.5]\n",
      " [6.  1.8]\n",
      " [1.5 0.2]\n",
      " [1.4 0.3]\n",
      " [1.3 0.2]\n",
      " [4.9 1.5]\n",
      " [5.6 2.4]\n",
      " [1.4 0.3]\n",
      " [5.5 2.1]\n",
      " [6.  2.5]\n",
      " [1.3 0.2]\n",
      " [4.7 1.4]\n",
      " [4.6 1.5]\n",
      " [4.8 1.8]\n",
      " [4.7 1.4]\n",
      " [5.3 2.3]\n",
      " [1.6 0.2]\n",
      " [5.4 2.1]\n",
      " [4.2 1.5]\n",
      " [5.2 2. ]\n",
      " [3.5 1. ]\n",
      " [3.9 1.4]\n",
      " [4.6 1.4]\n",
      " [1.3 0.3]\n",
      " [4.6 1.3]\n",
      " [4.4 1.2]\n",
      " [1.5 0.2]\n",
      " [4.1 1.3]\n",
      " [6.3 1.8]\n",
      " [5.7 2.1]\n",
      " [1.5 0.4]\n",
      " [3.3 1. ]\n",
      " [5.7 2.5]\n",
      " [5.8 1.6]\n",
      " [1.5 0.1]\n",
      " [5.6 2.4]\n",
      " [1.4 0.2]\n",
      " [4.9 1.5]\n",
      " [6.1 1.9]\n",
      " [5.6 1.8]\n",
      " [4.1 1.3]\n",
      " [5.5 1.8]\n",
      " [4.4 1.3]\n",
      " [4.3 1.3]\n",
      " [4.9 2. ]\n",
      " [5.1 1.8]\n",
      " [1.7 0.2]\n",
      " [4.  1.3]\n",
      " [4.5 1.7]\n",
      " [1.2 0.2]\n",
      " [4.  1.2]\n",
      " [5.9 2.1]]\n"
     ]
    }
   ],
   "source": [
    "X = Data.iloc[:, :-1].values\n",
    "\n",
    "print(\"Attributes:\")\n",
    "print(X)\n"
   ]
  },
  {
   "cell_type": "code",
   "execution_count": 5,
   "metadata": {},
   "outputs": [
    {
     "data": {
      "text/plain": [
       "(105, 2)"
      ]
     },
     "execution_count": 5,
     "metadata": {},
     "output_type": "execute_result"
    }
   ],
   "source": [
    "X.shape\n",
    "#105,2"
   ]
  },
  {
   "cell_type": "code",
   "execution_count": 6,
   "metadata": {},
   "outputs": [
    {
     "name": "stdout",
     "output_type": "stream",
     "text": [
      "\n",
      "Labels:\n",
      "['Iris-versicolor' 'Iris-virginica' 'Iris-virginica' 'Iris-versicolor'\n",
      " 'Iris-virginica' 'Iris-versicolor' 'Iris-virginica' 'Iris-versicolor'\n",
      " 'Iris-setosa' 'Iris-virginica' 'Iris-versicolor' 'Iris-setosa'\n",
      " 'Iris-setosa' 'Iris-setosa' 'Iris-versicolor' 'Iris-virginica'\n",
      " 'Iris-setosa' 'Iris-setosa' 'Iris-setosa' 'Iris-versicolor' 'Iris-setosa'\n",
      " 'Iris-versicolor' 'Iris-virginica' 'Iris-setosa' 'Iris-versicolor'\n",
      " 'Iris-virginica' 'Iris-setosa' 'Iris-virginica' 'Iris-virginica'\n",
      " 'Iris-versicolor' 'Iris-versicolor' 'Iris-virginica' 'Iris-versicolor'\n",
      " 'Iris-setosa' 'Iris-versicolor' 'Iris-virginica' 'Iris-setosa'\n",
      " 'Iris-setosa' 'Iris-versicolor' 'Iris-versicolor' 'Iris-setosa'\n",
      " 'Iris-virginica' 'Iris-setosa' 'Iris-setosa' 'Iris-versicolor'\n",
      " 'Iris-versicolor' 'Iris-virginica' 'Iris-versicolor' 'Iris-virginica'\n",
      " 'Iris-virginica' 'Iris-versicolor' 'Iris-setosa' 'Iris-setosa'\n",
      " 'Iris-virginica' 'Iris-virginica' 'Iris-setosa' 'Iris-setosa'\n",
      " 'Iris-setosa' 'Iris-versicolor' 'Iris-virginica' 'Iris-setosa'\n",
      " 'Iris-virginica' 'Iris-virginica' 'Iris-setosa' 'Iris-versicolor'\n",
      " 'Iris-versicolor' 'Iris-virginica' 'Iris-versicolor' 'Iris-virginica'\n",
      " 'Iris-setosa' 'Iris-virginica' 'Iris-versicolor' 'Iris-virginica'\n",
      " 'Iris-versicolor' 'Iris-versicolor' 'Iris-versicolor' 'Iris-setosa'\n",
      " 'Iris-versicolor' 'Iris-versicolor' 'Iris-setosa' 'Iris-versicolor'\n",
      " 'Iris-virginica' 'Iris-virginica' 'Iris-setosa' 'Iris-versicolor'\n",
      " 'Iris-virginica' 'Iris-virginica' 'Iris-setosa' 'Iris-virginica'\n",
      " 'Iris-setosa' 'Iris-versicolor' 'Iris-virginica' 'Iris-virginica'\n",
      " 'Iris-versicolor' 'Iris-virginica' 'Iris-versicolor' 'Iris-versicolor'\n",
      " 'Iris-virginica' 'Iris-virginica' 'Iris-setosa' 'Iris-versicolor'\n",
      " 'Iris-virginica' 'Iris-setosa' 'Iris-versicolor' 'Iris-virginica']\n"
     ]
    }
   ],
   "source": [
    "Y = Data.iloc[:, 2].values\n",
    "print(\"\\nLabels:\")\n",
    "print(Y)"
   ]
  },
  {
   "cell_type": "code",
   "execution_count": null,
   "metadata": {},
   "outputs": [],
   "source": [
    "# concatenate 1s with data  X tilda \n",
    "x_tilda =np.concatenate((X,np.ones((105,1))),axis=1)\n",
    "x_tilda"
   ]
  },
  {
   "cell_type": "code",
   "execution_count": 9,
   "metadata": {},
   "outputs": [
    {
     "data": {
      "text/plain": [
       "(105, 3)"
      ]
     },
     "execution_count": 9,
     "metadata": {},
     "output_type": "execute_result"
    }
   ],
   "source": [
    "#do target array for every type of flower \n",
    "TA=np.full([len(Y),3],[0,0,0])\n",
    "for Classes in range(len(Y)):\n",
    "    if Y[Classes]=='Iris-setosa':\n",
    "        TA[Classes][0]=1\n",
    "    elif Y[Classes] == 'Iris-versicolor':\n",
    "        TA[Classes][1]=1\n",
    "    else:\n",
    "        TA[Classes][2]=1\n",
    "        \n",
    "#TA.reshape(len(Y),3)\n",
    "#TA.shape"
   ]
  },
  {
   "cell_type": "code",
   "execution_count": null,
   "metadata": {},
   "outputs": [],
   "source": [
    "target=np.array([TA]).reshape(len(Y),3)\n",
    "target"
   ]
  },
  {
   "cell_type": "code",
   "execution_count": 16,
   "metadata": {},
   "outputs": [
    {
     "data": {
      "text/plain": [
       "array([[-0.25035195,  0.28539678, -0.03504482],\n",
       "       [ 0.01970888, -0.59028535,  0.57057647],\n",
       "       [ 1.24005633, -0.0216828 , -0.21837353]])"
      ]
     },
     "execution_count": 16,
     "metadata": {},
     "output_type": "execute_result"
    }
   ],
   "source": [
    "#calculate W\n",
    "W=np.linalg.inv(x_tilda.T @ x_tilda) @x_tilda.T @ target\n",
    "W"
   ]
  },
  {
   "cell_type": "code",
   "execution_count": 29,
   "metadata": {},
   "outputs": [
    {
     "data": {
      "text/plain": [
       "array([-0.25035195,  0.01970888,  1.24005633])"
      ]
     },
     "execution_count": 29,
     "metadata": {},
     "output_type": "execute_result"
    }
   ],
   "source": [
    "# see w by col for every class\n",
    "WcOne=np.array([W[0][0],W[1][0],W[2][0]])\n",
    "WcTwo=np.array([W[0][1],W[1][1],W[2][1]])\n",
    "WcThree=np.array([W[0][2],W[1][2],W[2][2]])\n",
    "\n",
    "WcOne"
   ]
  },
  {
   "cell_type": "code",
   "execution_count": 19,
   "metadata": {},
   "outputs": [
    {
     "name": "stdout",
     "output_type": "stream",
     "text": [
      "Attributes:\n",
      "[[4.7 1.2]\n",
      " [1.7 0.3]\n",
      " [6.9 2.3]\n",
      " [4.5 1.5]\n",
      " [4.8 1.4]\n",
      " [1.5 0.4]\n",
      " [3.6 1.3]\n",
      " [5.1 2.3]\n",
      " [4.5 1.5]\n",
      " [3.9 1.2]\n",
      " [5.1 2. ]\n",
      " [1.4 0.1]\n",
      " [1.3 0.2]\n",
      " [1.5 0.1]\n",
      " [1.5 0.3]\n",
      " [4.7 1.6]\n",
      " [5.8 2.2]\n",
      " [3.9 1.1]\n",
      " [4.5 1.3]\n",
      " [5.6 2.2]\n",
      " [1.6 0.2]\n",
      " [4.9 1.8]\n",
      " [1.6 0.4]\n",
      " [5.6 2.1]\n",
      " [6.4 2. ]\n",
      " [5.2 2.3]\n",
      " [5.8 1.8]\n",
      " [5.9 2.3]\n",
      " [1.4 0.3]\n",
      " [1.6 0.2]\n",
      " [1.  0.2]\n",
      " [1.5 0.4]\n",
      " [4.4 1.4]\n",
      " [1.6 0.2]\n",
      " [1.3 0.2]\n",
      " [5.  1.9]\n",
      " [4.5 1.5]\n",
      " [1.5 0.2]\n",
      " [1.4 0.2]\n",
      " [1.5 0.1]\n",
      " [5.1 1.9]\n",
      " [4.5 1.6]\n",
      " [4.7 1.5]\n",
      " [1.3 0.4]\n",
      " [1.5 0.2]]\n"
     ]
    }
   ],
   "source": [
    "#separate species from the test.csv\n",
    "X2 = DataT.iloc[:, :-1].values\n",
    "\n",
    "print(\"Attributes:\")\n",
    "print(X2)\n"
   ]
  },
  {
   "cell_type": "code",
   "execution_count": 32,
   "metadata": {},
   "outputs": [
    {
     "data": {
      "text/plain": [
       "0     Iris-versicolor\n",
       "1         Iris-setosa\n",
       "2      Iris-virginica\n",
       "3     Iris-versicolor\n",
       "4     Iris-versicolor\n",
       "5         Iris-setosa\n",
       "6     Iris-versicolor\n",
       "7      Iris-virginica\n",
       "8     Iris-versicolor\n",
       "9     Iris-versicolor\n",
       "10     Iris-virginica\n",
       "11        Iris-setosa\n",
       "12        Iris-setosa\n",
       "13        Iris-setosa\n",
       "14        Iris-setosa\n",
       "15    Iris-versicolor\n",
       "16     Iris-virginica\n",
       "17    Iris-versicolor\n",
       "18    Iris-versicolor\n",
       "19     Iris-virginica\n",
       "20        Iris-setosa\n",
       "21     Iris-virginica\n",
       "22        Iris-setosa\n",
       "23     Iris-virginica\n",
       "24     Iris-virginica\n",
       "25     Iris-virginica\n",
       "26     Iris-virginica\n",
       "27     Iris-virginica\n",
       "28        Iris-setosa\n",
       "29        Iris-setosa\n",
       "30        Iris-setosa\n",
       "31        Iris-setosa\n",
       "32    Iris-versicolor\n",
       "33        Iris-setosa\n",
       "34        Iris-setosa\n",
       "35     Iris-virginica\n",
       "36    Iris-versicolor\n",
       "37        Iris-setosa\n",
       "38        Iris-setosa\n",
       "39        Iris-setosa\n",
       "40     Iris-virginica\n",
       "41    Iris-versicolor\n",
       "42    Iris-versicolor\n",
       "43        Iris-setosa\n",
       "44        Iris-setosa\n",
       "Name: Species, dtype: object"
      ]
     },
     "execution_count": 32,
     "metadata": {},
     "output_type": "execute_result"
    }
   ],
   "source": [
    "Type=DataT['Species']\n",
    "Type"
   ]
  },
  {
   "cell_type": "code",
   "execution_count": null,
   "metadata": {},
   "outputs": [],
   "source": [
    "#calculate x tilda for test dataset\n",
    "x2_tilda =np.concatenate((X2,np.ones((45,1))),axis=1)\n",
    "x2_tilda"
   ]
  },
  {
   "cell_type": "code",
   "execution_count": 21,
   "metadata": {},
   "outputs": [
    {
     "data": {
      "text/plain": [
       "array([[4.7, 1.2, 1. ],\n",
       "       [1.7, 0.3, 1. ],\n",
       "       [6.9, 2.3, 1. ],\n",
       "       [4.5, 1.5, 1. ],\n",
       "       [4.8, 1.4, 1. ],\n",
       "       [1.5, 0.4, 1. ],\n",
       "       [3.6, 1.3, 1. ],\n",
       "       [5.1, 2.3, 1. ],\n",
       "       [4.5, 1.5, 1. ],\n",
       "       [3.9, 1.2, 1. ],\n",
       "       [5.1, 2. , 1. ],\n",
       "       [1.4, 0.1, 1. ],\n",
       "       [1.3, 0.2, 1. ],\n",
       "       [1.5, 0.1, 1. ],\n",
       "       [1.5, 0.3, 1. ],\n",
       "       [4.7, 1.6, 1. ],\n",
       "       [5.8, 2.2, 1. ],\n",
       "       [3.9, 1.1, 1. ],\n",
       "       [4.5, 1.3, 1. ],\n",
       "       [5.6, 2.2, 1. ],\n",
       "       [1.6, 0.2, 1. ],\n",
       "       [4.9, 1.8, 1. ],\n",
       "       [1.6, 0.4, 1. ],\n",
       "       [5.6, 2.1, 1. ],\n",
       "       [6.4, 2. , 1. ],\n",
       "       [5.2, 2.3, 1. ],\n",
       "       [5.8, 1.8, 1. ],\n",
       "       [5.9, 2.3, 1. ],\n",
       "       [1.4, 0.3, 1. ],\n",
       "       [1.6, 0.2, 1. ],\n",
       "       [1. , 0.2, 1. ],\n",
       "       [1.5, 0.4, 1. ],\n",
       "       [4.4, 1.4, 1. ],\n",
       "       [1.6, 0.2, 1. ],\n",
       "       [1.3, 0.2, 1. ],\n",
       "       [5. , 1.9, 1. ],\n",
       "       [4.5, 1.5, 1. ],\n",
       "       [1.5, 0.2, 1. ],\n",
       "       [1.4, 0.2, 1. ],\n",
       "       [1.5, 0.1, 1. ],\n",
       "       [5.1, 1.9, 1. ],\n",
       "       [4.5, 1.6, 1. ],\n",
       "       [4.7, 1.5, 1. ],\n",
       "       [1.3, 0.4, 1. ],\n",
       "       [1.5, 0.2, 1. ]])"
      ]
     },
     "execution_count": 21,
     "metadata": {},
     "output_type": "execute_result"
    }
   ],
   "source": [
    "x2_tilda.reshape(45,3)"
   ]
  },
  {
   "cell_type": "code",
   "execution_count": 52,
   "metadata": {},
   "outputs": [],
   "source": [
    "# for each class calculate the Y and add max Y to prediction array \n",
    "PredictionA=np.array([])\n",
    "for Class in range (len(X2)):\n",
    "    YCOne = WcOne.T.dot(x2_tilda[Class])    \n",
    "    YCTwo= WcTwo.T.dot(x2_tilda[Class])  \n",
    "    YCThree = WcThree.T.dot(x2_tilda[Class])  \n",
    "    if (( YCOne>YCTwo) and (YCOne>YCThree)):\n",
    "        PredictionA=np.append(PredictionA,['Iris-setosa'])\n",
    "    elif (( YCTwo>YCOne) and (YCTwo>YCThree)):\n",
    "        PredictionA=np.append(PredictionA,['Iris-versicolor'])\n",
    "    else:\n",
    "        PredictionA=np.append(PredictionA,[ 'Iris-virginica'])\n",
    "        \n",
    "   \n",
    "\n",
    "\n",
    "\n"
   ]
  },
  {
   "cell_type": "code",
   "execution_count": 53,
   "metadata": {},
   "outputs": [
    {
     "data": {
      "text/plain": [
       "array([['Iris-versicolor'],\n",
       "       ['Iris-setosa'],\n",
       "       ['Iris-virginica'],\n",
       "       ['Iris-virginica'],\n",
       "       ['Iris-versicolor'],\n",
       "       ['Iris-setosa'],\n",
       "       ['Iris-virginica'],\n",
       "       ['Iris-virginica'],\n",
       "       ['Iris-virginica'],\n",
       "       ['Iris-versicolor'],\n",
       "       ['Iris-virginica'],\n",
       "       ['Iris-setosa'],\n",
       "       ['Iris-setosa'],\n",
       "       ['Iris-setosa'],\n",
       "       ['Iris-setosa'],\n",
       "       ['Iris-virginica'],\n",
       "       ['Iris-virginica'],\n",
       "       ['Iris-versicolor'],\n",
       "       ['Iris-versicolor'],\n",
       "       ['Iris-virginica'],\n",
       "       ['Iris-setosa'],\n",
       "       ['Iris-virginica'],\n",
       "       ['Iris-setosa'],\n",
       "       ['Iris-virginica'],\n",
       "       ['Iris-virginica'],\n",
       "       ['Iris-virginica'],\n",
       "       ['Iris-virginica'],\n",
       "       ['Iris-virginica'],\n",
       "       ['Iris-setosa'],\n",
       "       ['Iris-setosa'],\n",
       "       ['Iris-setosa'],\n",
       "       ['Iris-setosa'],\n",
       "       ['Iris-virginica'],\n",
       "       ['Iris-setosa'],\n",
       "       ['Iris-setosa'],\n",
       "       ['Iris-virginica'],\n",
       "       ['Iris-virginica'],\n",
       "       ['Iris-setosa'],\n",
       "       ['Iris-setosa'],\n",
       "       ['Iris-setosa'],\n",
       "       ['Iris-virginica'],\n",
       "       ['Iris-virginica'],\n",
       "       ['Iris-virginica'],\n",
       "       ['Iris-setosa'],\n",
       "       ['Iris-setosa']], dtype='<U32')"
      ]
     },
     "execution_count": 53,
     "metadata": {},
     "output_type": "execute_result"
    }
   ],
   "source": [
    "PredictionA\n",
    "PredictionA.reshape(45,1)"
   ]
  },
  {
   "cell_type": "code",
   "execution_count": 54,
   "metadata": {},
   "outputs": [
    {
     "data": {
      "text/plain": [
       "0.8684701740974634"
      ]
     },
     "execution_count": 54,
     "metadata": {},
     "output_type": "execute_result"
    }
   ],
   "source": [
    "YCOne"
   ]
  },
  {
   "cell_type": "code",
   "execution_count": 55,
   "metadata": {},
   "outputs": [
    {
     "data": {
      "text/plain": [
       "0.2883552958189326"
      ]
     },
     "execution_count": 55,
     "metadata": {},
     "output_type": "execute_result"
    }
   ],
   "source": [
    "YCTwo"
   ]
  },
  {
   "cell_type": "code",
   "execution_count": 56,
   "metadata": {},
   "outputs": [
    {
     "data": {
      "text/plain": [
       "-0.15682546991639798"
      ]
     },
     "execution_count": 56,
     "metadata": {},
     "output_type": "execute_result"
    }
   ],
   "source": [
    "YCThree"
   ]
  },
  {
   "cell_type": "code",
   "execution_count": 57,
   "metadata": {},
   "outputs": [
    {
     "data": {
      "text/plain": [
       "array([['Iris-versicolor'],\n",
       "       ['Iris-setosa'],\n",
       "       ['Iris-virginica'],\n",
       "       ['Iris-versicolor'],\n",
       "       ['Iris-versicolor'],\n",
       "       ['Iris-setosa'],\n",
       "       ['Iris-versicolor'],\n",
       "       ['Iris-virginica'],\n",
       "       ['Iris-versicolor'],\n",
       "       ['Iris-versicolor'],\n",
       "       ['Iris-virginica'],\n",
       "       ['Iris-setosa'],\n",
       "       ['Iris-setosa'],\n",
       "       ['Iris-setosa'],\n",
       "       ['Iris-setosa'],\n",
       "       ['Iris-versicolor'],\n",
       "       ['Iris-virginica'],\n",
       "       ['Iris-versicolor'],\n",
       "       ['Iris-versicolor'],\n",
       "       ['Iris-virginica'],\n",
       "       ['Iris-setosa'],\n",
       "       ['Iris-virginica'],\n",
       "       ['Iris-setosa'],\n",
       "       ['Iris-virginica'],\n",
       "       ['Iris-virginica'],\n",
       "       ['Iris-virginica'],\n",
       "       ['Iris-virginica'],\n",
       "       ['Iris-virginica'],\n",
       "       ['Iris-setosa'],\n",
       "       ['Iris-setosa'],\n",
       "       ['Iris-setosa'],\n",
       "       ['Iris-setosa'],\n",
       "       ['Iris-versicolor'],\n",
       "       ['Iris-setosa'],\n",
       "       ['Iris-setosa'],\n",
       "       ['Iris-virginica'],\n",
       "       ['Iris-versicolor'],\n",
       "       ['Iris-setosa'],\n",
       "       ['Iris-setosa'],\n",
       "       ['Iris-setosa'],\n",
       "       ['Iris-virginica'],\n",
       "       ['Iris-versicolor'],\n",
       "       ['Iris-versicolor'],\n",
       "       ['Iris-setosa'],\n",
       "       ['Iris-setosa']], dtype='<U32')"
      ]
     },
     "execution_count": 57,
     "metadata": {},
     "output_type": "execute_result"
    }
   ],
   "source": [
    "#on speices in file test the right one\n",
    "RightSpeices =np.array([])\n",
    "for Class in range (len(Type)):\n",
    "    if Type[Class]=='Iris-setosa':\n",
    "        RightSpeices=np.append(RightSpeices,['Iris-setosa'])\n",
    "    elif Type[Class] =='Iris-versicolor':\n",
    "        RightSpeices=np.append(RightSpeices,['Iris-versicolor'])\n",
    "    else:\n",
    "        RightSpeices=np.append(RightSpeices,[ 'Iris-virginica'])\n",
    "        \n",
    "RightSpeices.reshape(45,1)  "
   ]
  },
  {
   "cell_type": "code",
   "execution_count": 58,
   "metadata": {},
   "outputs": [
    {
     "name": "stdout",
     "output_type": "stream",
     "text": [
      "Confusion  Matrix:\n",
      "[[19  0  0]\n",
      " [ 0  5  8]\n",
      " [ 0  0 13]]\n"
     ]
    }
   ],
   "source": [
    "#confusion matrix\n",
    "cm = confusion_matrix(RightSpeices, PredictionA)\n",
    "print(\"Confusion  Matrix:\")\n",
    "print(cm)"
   ]
  },
  {
   "cell_type": "code",
   "execution_count": 65,
   "metadata": {},
   "outputs": [
    {
     "name": "stdout",
     "output_type": "stream",
     "text": [
      "Misclassification error for setosa class: 0.19999999999999996\n",
      "Misclassification error for versicolor class : 0.06666666666666665\n",
      "Misclassification error for vriginica class : 0.2666666666666667\n",
      "Overall misclassification error : 0.1777777777777778\n"
     ]
    }
   ],
   "source": [
    "# calculate accuarncy for every class we have \n",
    "\n",
    "AccuracyClassOne = accuracy_score(RightSpeices[:(int(45/3))],  PredictionA[:int(45/3)])\n",
    "error_rateClassOne = 1 - AccuracyClassOne\n",
    "print(\"Misclassification error for setosa class: {}\".format(error_rateClassOne))\n",
    "\n",
    "AccuracyClassTwo= accuracy_score(RightSpeices[int(45/3):int((45/3)*2)],PredictionA[int(45/3):int((45/3)*2)])\n",
    "error_rateClassTwo = 1 - AccuracyClassTwo\n",
    "print(\"Misclassification error for versicolor class : {}\".format(error_rateClassTwo))\n",
    "\n",
    "AccuracyClassThree= accuracy_score(RightSpeices[int((45/3)*2):],PredictionA[int((45/3)*2):])\n",
    "error_rateClassThree = 1 - AccuracyClassThree\n",
    "print(\"Misclassification error for vriginica class : {}\".format(error_rateClassThree))\n",
    "\n",
    "overallacc = accuracy_score(RightSpeices, PredictionA)\n",
    "overall_error = 1 - overallacc\n",
    "print(\"Overall misclassification error : {}\".format(overall_error))"
   ]
  },
  {
   "cell_type": "code",
   "execution_count": 76,
   "metadata": {},
   "outputs": [
    {
     "data": {
      "image/png": "[encoded data removed]",
      "text/plain": [
       "<Figure size 648x432 with 2 Axes>"
      ]
     },
     "metadata": {},
     "output_type": "display_data"
    }
   ],
   "source": [
    "def plot_confusion_matrix(data, labels, output_filename):\n",
    "    sns.set(color_codes=True)\n",
    "    plt.figure(1, figsize=(9, 6))\n",
    " \n",
    "    plt.title(\"Confusion Matrix\")\n",
    " \n",
    "    sns.set(font_scale=1.4)\n",
    "    ax = sns.heatmap(data, annot=True, cmap=\"rocket\", cbar_kws={'label': 'Scale'})\n",
    " \n",
    "    ax.set_xticklabels(labels)\n",
    "    ax.set_yticklabels(labels)\n",
    " \n",
    "    ax.set(ylabel=\"True Label\", xlabel=\"Prediction\")\n",
    " \n",
    "    plt.savefig(output_filename, bbox_inches='tight', dpi=300)\n",
    "    plt.show()\n",
    "    plt.close()\n",
    "\n",
    "Types = [\"Iris-setosa\" , \"Iris-Versicolor\" , \"Iris-Verginica\"]\n",
    "plot_confusion_matrix(cm, Types, \"Confusion.jpg\")"
   ]
  },
  {
   "cell_type": "code",
   "execution_count": null,
   "metadata": {},
   "outputs": [],
   "source": []
  }
 ],
 "metadata": {
  "kernelspec": {
   "display_name": "Python 3",
   "language": "python",
   "name": "python3"
  },
  "language_info": {
   "codemirror_mode": {
    "name": "ipython",
    "version": 3
   },
   "file_extension": ".py",
   "mimetype": "text/x-python",
   "name": "python",
   "nbconvert_exporter": "python",
   "pygments_lexer": "ipython3",
   "version": "3.8.5"
  }
 },
 "nbformat": 4,
 "nbformat_minor": 4
}
