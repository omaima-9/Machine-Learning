{
 "cells": [
  {
   "cell_type": "code",
   "execution_count": 78,
   "metadata": {},
   "outputs": [],
   "source": [
    "import pandas as pd\n",
    "from pandas import ExcelWriter\n",
    "from pandas import ExcelFile\n",
    "import numpy as np\n",
    "from sklearn.model_selection import train_test_split\n",
    "\n",
    "train = pd.read_excel('EPL_Training.xlsx')\n",
    "test = pd.read_excel('EPL_Testing.xlsx')\n",
    "\n",
    "train2=train.drop(['HomeTeam','AwayTeam'], axis=1)                                      \n",
    "test2=test.drop(['HomeTeam','AwayTeam'], axis=1)"
   ]
  },
  {
   "cell_type": "code",
   "execution_count": 87,
   "metadata": {},
   "outputs": [],
   "source": [
    "from sklearn.preprocessing import MinMaxScaler\n",
    "from sklearn import neighbors\n",
    "from sklearn.metrics import mean_squared_error \n",
    "from math import sqrt\n",
    "import matplotlib.pyplot as plt\n",
    "%matplotlib inline\n",
    "\n",
    "average_errors=[1]*10\n",
    "\n",
    "for i in range (1000):\n",
    "    \n",
    "    train_list,test_list=train_test_split(train2, test_size=0.05, shuffle=True)\n",
    "    \n",
    "    train_1 = train_list.drop('FTR', axis=1)\n",
    "    train_2 = train_list['FTR']\n",
    "    test_1 = test_list.drop('FTR', axis=1)\n",
    "    test_2 = test_list['FTR']\n",
    "#in arrays \n",
    "    train_1=train_1.to_numpy()\n",
    "    train_2=train_2.to_numpy()\n",
    "    test_1=test_1.to_numpy()\n",
    "    test_2=test_2.to_numpy()\n",
    "    \n",
    "    ftr_train=[1]*len(train_2)\n",
    "    ftr_test=[1]*len(test_2)\n",
    "    \n",
    "    for i in range(len(train_2)):\n",
    "        if train_2[i]==\"H\":\n",
    "            ftr_train[i]=0\n",
    "            \n",
    "    for i in range(len(test_2)):\n",
    "        if test_2[i]==\"H\":\n",
    "            ftr_test[i]=0\n",
    "            \n",
    "    for K in range(10):\n",
    "        Model = neighbors.KNeighborsClassifier(n_neighbors = K+1)\n",
    "        Model.fit(train_1, ftr_train)  \n",
    "        prediction=Model.predict(test_1) \n",
    "        for i in range(len(ftr_test)-1):\n",
    "            if ftr_test[i]!=prediction[i]:    \n",
    "                average_errors[K-1]+=1   \n"
   ]
  },
  {
   "cell_type": "code",
   "execution_count": 86,
   "metadata": {},
   "outputs": [
    {
     "name": "stdout",
     "output_type": "stream",
     "text": [
      "[1, 0, 1, 1, 0, 1, 0, 0, 0, 0, 1]\n"
     ]
    }
   ],
   "source": [
    "k=min(average_errors)\n",
    "for i in range(len(average_errors)):\n",
    "    if(k==average_errors[i]):\n",
    "        k=i+1    \n",
    "\n",
    "train_1 = train2.drop('FTR', axis=1)\n",
    "train_2 = train2['FTR']\n",
    "test_1 = test2.drop('FTR', axis=1)\n",
    "test_2 = test2['FTR']\n",
    "    \n",
    "train_1=train_1.to_numpy()\n",
    "train_2=train_2.to_numpy()\n",
    "test_1=test_1.to_numpy()\n",
    "test_2=test_2.to_numpy()\n",
    "print(average_errors)\n",
    "\n",
    "\n",
    "\n"
   ]
  },
  {
   "cell_type": "code",
   "execution_count": 81,
   "metadata": {},
   "outputs": [],
   "source": [
    "\n",
    "ftr_train=[1]*len(train_2)\n",
    "ftr_test=[1]*len(test_2)\n",
    "    \n",
    "for i in range(len(train_2)):\n",
    "    if train_2[i]==\"H\":\n",
    "        ftr_train[i]=0\n",
    "            \n",
    "for i in range(len(test_2)):\n",
    "    if test_2[i]==\"H\":\n",
    "        ftr_test[i]=0\n",
    "        \n",
    "        "
   ]
  },
  {
   "cell_type": "code",
   "execution_count": 82,
   "metadata": {},
   "outputs": [],
   "source": [
    "\n",
    "accuracy=0\n",
    "Model = neighbors.KNeighborsClassifier(n_neighbors = k)\n",
    "Model.fit(train_1, ftr_train)  \n",
    "prediction=Model.predict(test_1)\n",
    "for i in range(len(ftr_test)-1):\n",
    "    if(ftr_test[i]==prediction[i]):\n",
    "        accuracy+=1\n",
    "accuracy=(accuracy/len(ftr_test))*100\n",
    "\n"
   ]
  },
  {
   "cell_type": "code",
   "execution_count": 83,
   "metadata": {},
   "outputs": [
    {
     "name": "stdout",
     "output_type": "stream",
     "text": [
      "62.295081967213115 6\n",
      "[2574, 2391, 2505, 2165, 2252, 2073, 2376, 2249, 2335, 2668]\n"
     ]
    },
    {
     "data": {
      "image/png": "[encoded data removed]",
      "text/plain": [
       "<Figure size 432x288 with 1 Axes>"
      ]
     },
     "metadata": {
      "needs_background": "light"
     },
     "output_type": "display_data"
    }
   ],
   "source": [
    "\n",
    "graph=pd.DataFrame(average_errors)\n",
    "graph.plot()\n",
    "print(accuracy, k)\n",
    "print(average_errors)"
   ]
  }
 ],
 "metadata": {
  "kernelspec": {
   "display_name": "Python 3",
   "language": "python",
   "name": "python3"
  },
  "language_info": {
   "codemirror_mode": {
    "name": "ipython",
    "version": 3
   },
   "file_extension": ".py",
   "mimetype": "text/x-python",
   "name": "python",
   "nbconvert_exporter": "python",
   "pygments_lexer": "ipython3",
   "version": "3.9.0 (tags/v3.9.0:9cf6752, Oct  5 2020, 15:34:40) [MSC v.1927 64 bit (AMD64)]"
  },
  "vscode": {
   "interpreter": {
    "hash": "b667cebad148e7b094a58ee81f940c685de1dd70a003a9ccdca4a5792431bee5"
   }
  }
 },
 "nbformat": 4,
 "nbformat_minor": 4
}
