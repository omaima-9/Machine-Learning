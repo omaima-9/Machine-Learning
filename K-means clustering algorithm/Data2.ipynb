{
 "cells": [
  {
   "cell_type": "code",
   "execution_count": 242,
   "metadata": {},
   "outputs": [],
   "source": [
    "import pandas as pd\n",
    "from pandas import ExcelWriter\n",
    "from pandas import ExcelFile\n",
    "import numpy as np\n",
    "from sklearn.model_selection import train_test_split\n",
    "\n",
    "tr = pd.read_excel('EPL_Training.xlsx')\n",
    "te = pd.read_excel('EPL_Testing.xlsx')\n",
    "\n",
    "tr2=tr.drop(['HomeTeam','AwayTeam'], axis=1)                                      \n",
    "te2=te.drop(['HomeTeam','AwayTeam'], axis=1)\n",
    "\n",
    "\n"
   ]
  },
  {
   "cell_type": "code",
   "execution_count": 277,
   "metadata": {},
   "outputs": [
    {
     "data": {
      "text/plain": [
       "[2613, 3203, 2358, 2300, 2132, 2195, 2130, 2222, 2220, 2397]"
      ]
     },
     "execution_count": 277,
     "metadata": {},
     "output_type": "execute_result"
    }
   ],
   "source": [
    "from sklearn.preprocessing import MinMaxScaler\n",
    "from sklearn import neighbors\n",
    "from sklearn.metrics import mean_squared_error \n",
    "from math import sqrt\n",
    "import matplotlib.pyplot as plt\n",
    "%matplotlib inline\n",
    "\n",
    "averages=[0]*10\n",
    "\n",
    "for num in range (1000):\n",
    "    \n",
    "    arrtrain,arrtest=train_test_split(tr2, test_size=0.05, shuffle=True)\n",
    "    \n",
    "    x_train = arrtrain.drop('FTR', axis=1)\n",
    "    y_train = arrtrain['FTR']\n",
    "    \n",
    "    x_test = arrtest.drop('FTR', axis=1)\n",
    "    y_test = arrtest['FTR']\n",
    "    \n",
    "    x_train=x_train.to_numpy()\n",
    "    y_train=y_train.to_numpy()\n",
    "    x_test=x_test.to_numpy()\n",
    "    y_test=y_test.to_numpy()\n",
    "    \n",
    "    ytrain=[0]*len(y_train)\n",
    "    ytest=[0]*len(y_test)\n",
    "    \n",
    "    for i in range(len(y_train)):\n",
    "        if y_train[i]==\"H\":\n",
    "            ytrain[i]=1\n",
    "            \n",
    "    for i in range(len(y_test)):\n",
    "        if y_test[i]==\"H\":\n",
    "            ytest[i]=1\n",
    "   \n",
    "    for K in range(10):\n",
    "        #error=0\n",
    "        model = neighbors.KNeighborsClassifier(n_neighbors = K+1)\n",
    "        model.fit(x_train, ytrain)  \n",
    "        pred=model.predict(x_test) \n",
    "        #accuracy for knn classifier (pandas or numpy or sklearn)\n",
    "        for i in range(len(ytest)-1):\n",
    "            if ytest[i]!=pred[i]:    \n",
    "                averages[K-1]+=1\n",
    "            \n",
    "        \n",
    "    \n",
    "\n"
   ]
  },
  {
   "cell_type": "code",
   "execution_count": 279,
   "metadata": {
    "scrolled": true
   },
   "outputs": [
    {
     "name": "stdout",
     "output_type": "stream",
     "text": [
      "62.295081967213115 7\n"
     ]
    }
   ],
   "source": [
    "for i in range(len(averages)):\n",
    "    averages[i]=averages[i]/1000  \n",
    "\n",
    "k=min(averages)\n",
    "final_k=0\n",
    "for i in range(len(averages)):\n",
    "    if(k==averages[i]):\n",
    "        final_k=i+1      \n",
    "\n",
    "\n",
    "x_train = tr2.drop('FTR', axis=1)\n",
    "y_train = tr2['FTR']\n",
    "\n",
    "x_test = te2.drop('FTR', axis=1)\n",
    "y_test = te2['FTR']\n",
    "    \n",
    "x_train=x_train.to_numpy()\n",
    "y_train=y_train.to_numpy()\n",
    "x_test=x_test.to_numpy()\n",
    "y_test=y_test.to_numpy()\n",
    "\n",
    "ytrain=[0]*len(y_train)\n",
    "ytest=[0]*len(y_test)\n",
    "    \n",
    "for i in range(len(y_train)):\n",
    "    if y_train[i]==\"H\":\n",
    "        ytrain[i]=1\n",
    "            \n",
    "for i in range(len(y_test)):\n",
    "    if y_test[i]==\"H\":\n",
    "        ytest[i]=1\n",
    "\n",
    "\n",
    "accuracy=0\n",
    "model = neighbors.KNeighborsClassifier(n_neighbors = final_k)\n",
    "model.fit(x_train, ytrain)  \n",
    "pred=model.predict(x_test)\n",
    "for i in range(len(ytest)-1):\n",
    "    if(ytest[i]==pred[i]):\n",
    "        accuracy+=1\n",
    "accuracy=(accuracy/len(ytest))*100\n",
    "\n",
    "print(accuracy, final_k)\n"
   ]
  }
 ],
 "metadata": {
  "kernelspec": {
   "display_name": "Python 3",
   "language": "python",
   "name": "python3"
  },
  "language_info": {
   "codemirror_mode": {
    "name": "ipython",
    "version": 3
   },
   "file_extension": ".py",
   "mimetype": "text/x-python",
   "name": "python",
   "nbconvert_exporter": "python",
   "pygments_lexer": "ipython3",
   "version": "3.9.0 (tags/v3.9.0:9cf6752, Oct  5 2020, 15:34:40) [MSC v.1927 64 bit (AMD64)]"
  },
  "vscode": {
   "interpreter": {
    "hash": "b667cebad148e7b094a58ee81f940c685de1dd70a003a9ccdca4a5792431bee5"
   }
  }
 },
 "nbformat": 4,
 "nbformat_minor": 4
}
